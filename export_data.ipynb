{
 "cells": [
  {
   "cell_type": "code",
   "execution_count": 8,
   "metadata": {},
   "outputs": [],
   "source": [
    "import pandas as pd\n",
    "import datetime as dt\n",
    "import os\n",
    "\n",
    "#Get today parse in number format\n",
    "today = dt.date.strftime(dt.date.today(),'%Y%m%d')\n",
    "\n",
    "#Get list of folders\n",
    "malls = os.listdir(path='webscraper')\n",
    "\n",
    "#Call mall web scrapers in webscraper folder\n",
    "for mall in malls:\n",
    "    exec(f'from webscraper import {mall} as {mall}')"
   ]
  },
  {
   "cell_type": "code",
   "execution_count": 9,
   "metadata": {},
   "outputs": [
    {
     "name": "stdout",
     "output_type": "stream",
     "text": [
      "Start web scraping shop category of Citywalk at 2022-01-05 00:18:07.482092\n",
      "Finish web scraping shop category of Citywalk at 2022-01-05 00:18:09.744920\n",
      "Start web scraping shop master of Citywalk at 2022-01-05 00:18:09.745042\n",
      "Finish web scraping shop master of Citywalk at 2022-01-05 00:20:31.740916\n",
      "Start web scraping shop category of K11Musea at 2022-01-05 00:20:31.741070\n",
      "Finish web scraping shop category of K11Musea at 2022-01-05 00:20:34.192510\n",
      "Start web scraping shop master of K11Musea at 2022-01-05 00:20:34.192645\n",
      "Finish web scraping shop master of K11Musea at 2022-01-05 00:24:50.059846\n",
      "Start web scraping shop category of TheOne at 2022-01-05 00:24:50.059944\n",
      "Finish web scraping shop category of TheOne at 2022-01-05 00:24:50.859643\n",
      "Start web scraping shop master of TheOne at 2022-01-05 00:24:50.859759\n",
      "Finish web scraping shop master of TheOne at 2022-01-05 00:25:31.715481\n",
      "Start web scraping shop category of LanghamPlace at 2022-01-05 00:25:31.715641\n",
      "Finish web scraping shop category of LanghamPlace at 2022-01-05 00:25:33.648508\n",
      "Start web scraping shop master of LanghamPlace at 2022-01-05 00:25:33.648607\n",
      "Finish web scraping shop master of LanghamPlace at 2022-01-05 00:26:56.093491\n",
      "Start web scraping shop category of OlympianCity at 2022-01-05 00:26:56.093650\n",
      "Finish web scraping shop category of OlympianCity at 2022-01-05 00:26:58.906366\n",
      "Start web scraping shop master of OlympianCity at 2022-01-05 00:26:58.906503\n",
      "Finish web scraping shop master of OlympianCity at 2022-01-05 00:31:00.557914\n",
      "Start web scraping shop category of Tmtplaza at 2022-01-05 00:31:00.558020\n",
      "Finish web scraping shop category of Tmtplaza at 2022-01-05 00:31:03.997361\n",
      "Start web scraping shop master of Tmtplaza at 2022-01-05 00:31:03.997497\n",
      "Finish web scraping shop master of Tmtplaza at 2022-01-05 00:35:24.798239\n",
      "Start web scraping shop category of TimeSquare at 2022-01-05 00:35:24.798356\n",
      "Finish web scraping shop category of TimeSquare at 2022-01-05 00:35:25.488534\n",
      "Start web scraping shop master of TimeSquare at 2022-01-05 00:35:25.488679\n",
      "Finish web scraping shop master of TimeSquare at 2022-01-05 00:36:17.221574\n",
      "Start web scraping shop category of K11ArtMall at 2022-01-05 00:36:17.221726\n",
      "Finish web scraping shop category of K11ArtMall at 2022-01-05 00:36:18.310535\n",
      "Start web scraping shop master of K11ArtMall at 2022-01-05 00:36:18.310681\n",
      "Finish web scraping shop master of K11ArtMall at 2022-01-05 00:36:59.211542\n",
      "Start web scraping shop category of HarbourCity at 2022-01-05 00:36:59.211685\n",
      "Finish web scraping shop category of HarbourCity at 2022-01-05 00:36:59.840318\n",
      "Start web scraping shop master of HarbourCity at 2022-01-05 00:36:59.840439\n",
      "Finish web scraping shop master of HarbourCity at 2022-01-05 00:37:14.339632\n",
      "Start web scraping shop category of MiraPlace at 2022-01-05 00:37:14.339775\n",
      "Finish web scraping shop category of MiraPlace at 2022-01-05 00:37:14.630157\n",
      "Start web scraping shop master of MiraPlace at 2022-01-05 00:37:14.630247\n",
      "Finish web scraping shop master of MiraPlace at 2022-01-05 00:39:03.901719\n"
     ]
    }
   ],
   "source": [
    "for mall in malls:\n",
    "    #Call getShopCategory function from each mall to export shop category data\n",
    "    print(f'Start web scraping shop category of {mall} at {dt.datetime.now()}')\n",
    "    shopcategory = eval(mall + \".WebScraping.getShopCategory()\")\n",
    "    shopcategory.to_csv(f'./data/{mall}/{mall}_shopcategory_{today}.csv', index = False)\n",
    "    print(f'Finish web scraping shop category of {mall} at {dt.datetime.now()}')\n",
    "    \n",
    "    #Call getShopMaster function from each mall to export shop master data\n",
    "    print(f'Start web scraping shop master of {mall} at {dt.datetime.now()}')\n",
    "    shopmaster = eval(mall + \".WebScraping.getShopMaster()\")\n",
    "    shopmaster.to_csv(f'./data/{mall}/{mall}_shopmaster_{today}.csv', index = False)\n",
    "    print(f'Finish web scraping shop master of {mall} at {dt.datetime.now()}')"
   ]
  }
 ],
 "metadata": {
  "interpreter": {
   "hash": "40d3a090f54c6569ab1632332b64b2c03c39dcf918b08424e98f38b5ae0af88f"
  },
  "kernelspec": {
   "display_name": "Python 3.7.4 64-bit ('base': conda)",
   "language": "python",
   "name": "python3"
  },
  "language_info": {
   "codemirror_mode": {
    "name": "ipython",
    "version": 3
   },
   "file_extension": ".py",
   "mimetype": "text/x-python",
   "name": "python",
   "nbconvert_exporter": "python",
   "pygments_lexer": "ipython3",
   "version": "3.7.4"
  },
  "orig_nbformat": 4
 },
 "nbformat": 4,
 "nbformat_minor": 2
}
