{
 "cells": [
  {
   "cell_type": "code",
   "execution_count": 156,
   "metadata": {},
   "outputs": [],
   "source": [
    "import pandas as pd\n",
    "import datetime as dt\n",
    "import os\n",
    "#Call mall web scrapers in webscraper folder\n",
    "from webscraper import *\n",
    "\n",
    "#Get today parse in number format\n",
    "today = dt.date.strftime(dt.date.today(),'%Y%m%d')\n",
    "\n",
    "#Get list of folders\n",
    "malls = os.listdir(path='data')"
   ]
  },
  {
   "cell_type": "code",
   "execution_count": 157,
   "metadata": {},
   "outputs": [],
   "source": [
    "for mall in malls:\n",
    "    #Call getShopCategory function from each mall to export shop category data\n",
    "    shopcategory = eval(mall + \".WebScraping.getShopCategory()\")\n",
    "    shopcategory.to_csv(f'./data/{mall}/{mall}_shopcategory_{today}.csv', index = False)\n",
    "    \n",
    "    #Call getShopMaster function from each mall to export shop master data\n",
    "    shopmaster = eval(mall + \".WebScraping.getShopMaster()\")\n",
    "    shopmaster.to_csv(f'./data/{mall}/{mall}_shopmaster_{today}.csv', index = False)"
   ]
  }
 ],
 "metadata": {
  "interpreter": {
   "hash": "40d3a090f54c6569ab1632332b64b2c03c39dcf918b08424e98f38b5ae0af88f"
  },
  "kernelspec": {
   "display_name": "Python 3.7.4 64-bit ('base': conda)",
   "language": "python",
   "name": "python3"
  },
  "language_info": {
   "codemirror_mode": {
    "name": "ipython",
    "version": 3
   },
   "file_extension": ".py",
   "mimetype": "text/x-python",
   "name": "python",
   "nbconvert_exporter": "python",
   "pygments_lexer": "ipython3",
   "version": "3.8.8"
  },
  "orig_nbformat": 4
 },
 "nbformat": 4,
 "nbformat_minor": 2
}
