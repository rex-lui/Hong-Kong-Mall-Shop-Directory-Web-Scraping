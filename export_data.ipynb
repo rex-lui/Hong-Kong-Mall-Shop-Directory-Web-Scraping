{
 "cells": [
  {
   "cell_type": "code",
   "execution_count": 1,
   "metadata": {},
   "outputs": [],
   "source": [
    "import pandas as pd\n",
    "import datetime as dt\n",
    "import os\n",
    "\n",
    "#Get today parse in number format\n",
    "today = dt.date.strftime(dt.date.today(),'%Y%m%d')\n",
    "\n",
    "#Get list of folders\n",
    "malls = os.listdir(path='webscraper')\n",
    "\n",
    "#Call mall web scrapers in webscraper folder\n",
    "for mall in malls:\n",
    "    exec(f'from webscraper import {mall} as {mall}')"
   ]
  },
  {
   "cell_type": "code",
   "execution_count": 2,
   "metadata": {},
   "outputs": [
    {
     "name": "stdout",
     "output_type": "stream",
     "text": [
      "LinkHKMalls\n",
      "Start web scraping shop category at 2022-01-08 18:04:45\n",
      "Finish web scraping shop category at 2022-01-08 18:04:46 and consume 0.01 minutes\n",
      "Start web scraping shop category at 2022-01-08 18:04:46\n",
      "Finish web scraping shop master at 2022-01-08 18:24:39 and consume 19.88 minutes\n",
      "----------------------------------------------------------------------------------------------------\n"
     ]
    }
   ],
   "source": [
    "for mall in malls:\n",
    "    #Call getShopCategory function from each mall to export shop category data\n",
    "    print(f'{mall}')\n",
    "    event_start_time = dt.datetime.now()\n",
    "    event_start_time_str = event_start_time.strftime('%Y-%m-%d %H:%M:%S')\n",
    "    print(f'Start web scraping shop category at {event_start_time_str}')\n",
    "    shopcategory = eval(mall + \".WebScraping.getShopCategory()\")\n",
    "    shopcategory.to_csv(f'./data/{mall}/{mall}_shopcategory_{today}.csv', index = False)\n",
    "    event_end_time = dt.datetime.now()\n",
    "    event_end_time_str = event_end_time.strftime('%Y-%m-%d %H:%M:%S')\n",
    "    consume_minutes = (event_end_time - event_start_time).total_seconds() / 60.0\n",
    "    print(f'Finish web scraping shop category at {event_end_time_str} and consume {consume_minutes:.2f} minutes')\n",
    "    \n",
    "    #Call getShopMaster function from each mall to export shop master data\n",
    "    event_start_time = dt.datetime.now()\n",
    "    event_start_time_str = event_start_time.strftime('%Y-%m-%d %H:%M:%S')\n",
    "    print(f'Start web scraping shop category at {event_start_time_str}')\n",
    "    shopmaster = eval(mall + \".WebScraping.getShopMaster()\")\n",
    "    shopmaster.to_csv(f'./data/{mall}/{mall}_shopmaster_{today}.csv', index = False)\n",
    "    event_end_time = dt.datetime.now()\n",
    "    event_end_time_str = event_end_time.strftime('%Y-%m-%d %H:%M:%S')\n",
    "    consume_minutes = (event_end_time - event_start_time).total_seconds() / 60.0\n",
    "    print(f'Finish web scraping shop master at {event_end_time_str} and consume {consume_minutes:.2f} minutes')\n",
    "    print('----------------------------------------------------------------------------------------------------')\n"
   ]
  }
 ],
 "metadata": {
  "interpreter": {
   "hash": "40d3a090f54c6569ab1632332b64b2c03c39dcf918b08424e98f38b5ae0af88f"
  },
  "kernelspec": {
   "display_name": "Python 3.7.4 64-bit ('base': conda)",
   "language": "python",
   "name": "python3"
  },
  "language_info": {
   "codemirror_mode": {
    "name": "ipython",
    "version": 3
   },
   "file_extension": ".py",
   "mimetype": "text/x-python",
   "name": "python",
   "nbconvert_exporter": "python",
   "pygments_lexer": "ipython3",
   "version": "3.7.4"
  },
  "orig_nbformat": 4
 },
 "nbformat": 4,
 "nbformat_minor": 2
}
