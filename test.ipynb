{
 "cells": [
  {
   "cell_type": "code",
   "execution_count": 17,
   "metadata": {},
   "outputs": [],
   "source": [
    "from TimeSquare import WebScraping as ts\n",
    "from Tmtplaza import WebScraping as tmt\n",
    "from TheOne import WebScraping as one\n",
    "from K11ArtMall import WebScraping as k11art\n",
    "from K11Musea import WebScraping as k11musea"
   ]
  },
  {
   "cell_type": "code",
   "execution_count": 18,
   "metadata": {},
   "outputs": [
    {
     "name": "stdout",
     "output_type": "stream",
     "text": [
      "         mall      type shop_id         shop_name_en         shop_name_tc  \\\n",
      "0    K11Musea  Shopping     912              00RINGS              00RINGS   \n",
      "1    K11Musea  Shopping     253     10 perfect nails     10 perfect nails   \n",
      "2    K11Musea  Shopping     254           10/10 HOPE           10/10 HOPE   \n",
      "3    K11Musea  Shopping     352      1010 & The Club      1010 & The Club   \n",
      "4    K11Musea  Shopping     428            A80 PARIS            A80 PARIS   \n",
      "..        ...       ...     ...                  ...                  ...   \n",
      "328  K11Musea    Dining     206          yè shanghai                  夜上海   \n",
      "329  K11Musea    Dining      62            YOKU MOKU            Yoku Moku   \n",
      "330  K11Musea    Dining     190               YumMee                   喫麵   \n",
      "331  K11Musea    Dining      59        YUNG'S BISTRO               鏞鏞．藝嚐館   \n",
      "332  K11Musea    Dining     199  茶啡 Tea Meets Coffee  茶啡 Tea Meets Coffee   \n",
      "\n",
      "                                      shop_number shop_floor     phone  \\\n",
      "0                                        LAB1F08C        B1F  95366284   \n",
      "1                                            213B         2F  21159009   \n",
      "2                                            213C         2F  21191160   \n",
      "3                                       328 & 330         3F  23071010   \n",
      "4                                             215         2F       NaN   \n",
      "..                                            ...        ...       ...   \n",
      "328                                           702         7F  23763322   \n",
      "329                                 B2F01;Unit 22        B2F  27910083   \n",
      "330  136;MUSE EDITION (next to MoMA Design Store)         1F  23442366   \n",
      "331                                           701         7F  23213800   \n",
      "332                            B2F01;Unit 05 – 06        B2F  36195869   \n",
      "\n",
      "                                         opening_hours      loyalty_offer  \\\n",
      "0                                     11:00am - 9:00pm  Accepts K Dollars   \n",
      "1                                     11:00am - 8:00pm  Accepts K Dollars   \n",
      "2                                     10:30am – 9:30pm  Accepts K Dollars   \n",
      "3                                      11:00am -9:00pm                NaN   \n",
      "4                                                  NaN  Accepts K Dollars   \n",
      "..                                                 ...                ...   \n",
      "328                                  11:30am - 10:00pm  Accepts K Dollars   \n",
      "329                                  10:00am – 10:00pm  Accepts K Dollars   \n",
      "330                                  11:00am - 10:00pm  Accepts K Dollars   \n",
      "331   Weekday 11:30am - 10:00pm, Weekend & PH 11:00...  Accepts K Dollars   \n",
      "332  Mon - Fri: 8:30am - 6:00pm; Sat ,Sun & PH: 12:...  Accepts K Dollars   \n",
      "\n",
      "     voucher_acceptance shop_category_id  \\\n",
      "0                   NaN        1008;1025   \n",
      "1                   NaN             1001   \n",
      "2                   NaN             1001   \n",
      "3                   NaN        1002;1009   \n",
      "4                   NaN        1001;1008   \n",
      "..                  ...              ...   \n",
      "328                 NaN       15;1025;23   \n",
      "329                 NaN            14;18   \n",
      "330                 NaN               13   \n",
      "331                 NaN            15;23   \n",
      "332                 NaN            14;18   \n",
      "\n",
      "                          shop_category_name tag update_date  \n",
      "0                              Lifestyle;New      2021-12-30  \n",
      "1                     Beauty & Personal Care      2021-12-30  \n",
      "2                     Beauty & Personal Care      2021-12-30  \n",
      "3             Electronics & Gadgets;Services      2021-12-30  \n",
      "4           Beauty & Personal Care;Lifestyle      2021-12-30  \n",
      "..                                       ...  ..         ...  \n",
      "328  Chinese Cuisine;New;MUSEA Cocktail Hour      2021-12-30  \n",
      "329       Café & Confectionery;Taste Chamber      2021-12-30  \n",
      "330                         Asian Delicacies      2021-12-30  \n",
      "331      Chinese Cuisine;MUSEA Cocktail Hour      2021-12-30  \n",
      "332       Café & Confectionery;Taste Chamber      2021-12-30  \n",
      "\n",
      "[333 rows x 15 columns]\n"
     ]
    }
   ],
   "source": [
    "#print(ts.getShopMaster())\n",
    "#print(tmt.getShopMaster())\n",
    "#print(k11art.getShopMaster())\n",
    "print(k11musea.getShopMaster())"
   ]
  },
  {
   "cell_type": "code",
   "execution_count": null,
   "metadata": {},
   "outputs": [],
   "source": []
  },
  {
   "cell_type": "code",
   "execution_count": null,
   "metadata": {},
   "outputs": [],
   "source": []
  }
 ],
 "metadata": {
  "interpreter": {
   "hash": "40d3a090f54c6569ab1632332b64b2c03c39dcf918b08424e98f38b5ae0af88f"
  },
  "kernelspec": {
   "display_name": "Python 3.7.4 64-bit ('base': conda)",
   "language": "python",
   "name": "python3"
  },
  "language_info": {
   "codemirror_mode": {
    "name": "ipython",
    "version": 3
   },
   "file_extension": ".py",
   "mimetype": "text/x-python",
   "name": "python",
   "nbconvert_exporter": "python",
   "pygments_lexer": "ipython3",
   "version": "3.7.4"
  },
  "orig_nbformat": 4
 },
 "nbformat": 4,
 "nbformat_minor": 2
}
